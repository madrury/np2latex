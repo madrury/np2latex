{
 "cells": [
  {
   "cell_type": "code",
   "execution_count": 1,
   "metadata": {},
   "outputs": [
    {
     "name": "stdout",
     "output_type": "stream",
     "text": [
      "\\left( \\begin{array}{cccccccccc} 0.07 & -0.29 & 0.98 & 0.39 & -1.93 & -0.31 & -0.77 & -0.71 & 1.19 & 0.48 \\\\ -0.08 & -0.39 & -0.67 & -0.95 & -1.67 & 2.99 & 0.82 & 0.45 & 0.35 & 1.03 \\\\ -0.37 & 0.39 & 0.31 & 0.75 & -0.26 & 0.07 & -0.53 & 0.69 & 0.71 & -1.18 \\\\ 1.61 & 0.11 & 0.57 & -0.75 & 0.29 & -1.45 & 1.18 & -0.64 & 0.39 & -0.33 \\\\ 0.35 & -0.43 & 1.19 & 0.46 & 0.62 & 2.23 & -0.82 & 0.48 & -1.02 & 1.23 \\\\ 1.77 & -0.73 & 0.57 & 0.68 & 0.86 & 0.43 & -0.15 & -0.25 & -2.42 & 1.34 \\\\ 0.09 & 0.26 & -0.05 & -0.47 & 0.79 & 0.11 & -0.83 & -0.34 & 1.30 & 1.32 \\\\ 0.12 & -0.54 & -1.07 & 1.52 & -0.11 & -1.73 & 0.24 & 0.20 & -1.18 & -3.08 \\\\ -1.65 & -2.05 & 0.51 & -0.60 & 1.89 & 0.62 & -0.93 & -0.78 & 0.99 & -0.35 \\\\ -0.52 & 1.93 & 0.33 & -0.48 & 1.07 & 0.15 & 1.82 & -0.51 & -0.44 & -0.07 \\\\ \\end{array} \\right)\n"
     ]
    }
   ],
   "source": [
    "import numpy as np\n",
    "from np2latex.np2latex import np2latex\n",
    "\n",
    "X = np.random.normal(size=(10, 10))\n",
    "print(np2latex(X))"
   ]
  },
  {
   "cell_type": "markdown",
   "metadata": {},
   "source": [
    "## Rendered as latex:\n",
    "\n",
    "$$ \\left( \\begin{array}{cccccccccc} 0.21 & -2.46 & -0.63 & -0.58 & 1.24 & 0.82 & -0.38 & -0.81 & -1.40 & 1.60 \\\\ -0.39 & 0.15 & 0.39 & -0.17 & 0.05 & -2.25 & -0.69 & 0.63 & 0.04 & 1.06 \\\\ 0.31 & 0.96 & -1.04 & 0.69 & -0.25 & -0.75 & -0.97 & -1.37 & -0.06 & -0.34 \\\\ 0.24 & 0.26 & -0.63 & -0.37 & -0.75 & -0.31 & -0.62 & -0.40 & 0.47 & -0.61 \\\\ 1.50 & -0.13 & -0.88 & -0.07 & 0.34 & 0.02 & 1.93 & -0.48 & -0.70 & 0.26 \\\\ 0.92 & 0.29 & 0.90 & -0.13 & -0.57 & 0.94 & 0.03 & 0.56 & 1.43 & -2.70 \\\\ 0.07 & -1.54 & 0.76 & 0.13 & 1.60 & 1.44 & -0.72 & 1.81 & -0.13 & -0.23 \\\\ -0.77 & -1.43 & 0.07 & -0.84 & 0.60 & 0.31 & 0.02 & 0.98 & 1.70 & 1.26 \\\\ -2.15 & 1.68 & -1.23 & -1.05 & -1.79 & -0.09 & -1.70 & 0.06 & -0.47 & 0.64 \\\\ 1.33 & -0.06 & 1.30 & -0.08 & 0.04 & 1.92 & -0.98 & -1.47 & -0.43 & -0.54 \\\\ \\end{array} \\right) $$"
   ]
  },
  {
   "cell_type": "code",
   "execution_count": 2,
   "metadata": {
    "collapsed": true
   },
   "outputs": [],
   "source": [
    "X = np.array([[1.00, 2.00, 3.14], [-1.00, 0.00, -5.12], [9.99, -2.14, 0.00]])"
   ]
  },
  {
   "cell_type": "code",
   "execution_count": 3,
   "metadata": {},
   "outputs": [
    {
     "name": "stdout",
     "output_type": "stream",
     "text": [
      "\\left( \\begin{array}{ccc} 1.00 & 2.00 & 3.14 \\\\ -1.00 & 0.00 & -5.12 \\\\ 9.99 & -2.14 & 0.00 \\\\ \\end{array} \\right)\n"
     ]
    }
   ],
   "source": [
    "print(np2latex(X))"
   ]
  },
  {
   "cell_type": "markdown",
   "metadata": {},
   "source": [
    "$$\\left( \\begin{array}{ccc} 1.00 & 2.00 & 3.14 \\\\ -1.00 & 0.00 & -5.12 \\\\ 9.99 & -2.14 & 0.00 \\\\ \\end{array} \\right)$$"
   ]
  },
  {
   "cell_type": "code",
   "execution_count": 4,
   "metadata": {
    "collapsed": true
   },
   "outputs": [],
   "source": [
    "x = np.array([0.00, 1.23, -3.14])"
   ]
  },
  {
   "cell_type": "code",
   "execution_count": 5,
   "metadata": {},
   "outputs": [
    {
     "data": {
      "text/plain": [
       "(3, 1)"
      ]
     },
     "execution_count": 5,
     "metadata": {},
     "output_type": "execute_result"
    }
   ],
   "source": [
    "x.reshape(-1, 1).shape"
   ]
  },
  {
   "cell_type": "code",
   "execution_count": 6,
   "metadata": {},
   "outputs": [
    {
     "name": "stdout",
     "output_type": "stream",
     "text": [
      "\\left( \\begin{array}{c} 0.00 \\\\ 1.23 \\\\ -3.14 \\\\ \\end{array} \\right)\n"
     ]
    }
   ],
   "source": [
    "print(np2latex(x))"
   ]
  },
  {
   "cell_type": "markdown",
   "metadata": {},
   "source": [
    "$$\\left( \\begin{array}{c} 0.00 \\\\ 1.23 \\\\ -3.14 \\\\ \\end{array} \\right) $$"
   ]
  },
  {
   "cell_type": "code",
   "execution_count": 7,
   "metadata": {},
   "outputs": [
    {
     "name": "stdout",
     "output_type": "stream",
     "text": [
      "\\left( \\begin{array}{ccc} 0.00 & 1.23 & -3.14 \\end{array} \\right)\n"
     ]
    }
   ],
   "source": [
    "print(np2latex(x, column=False))"
   ]
  },
  {
   "cell_type": "markdown",
   "metadata": {},
   "source": [
    "$$ \\left( \\begin{array}{ccc} 0.00 & 1.23 & -3.14 \\\\ \\end{array} \\right) $$"
   ]
  },
  {
   "cell_type": "code",
   "execution_count": null,
   "metadata": {
    "collapsed": true
   },
   "outputs": [],
   "source": []
  }
 ],
 "metadata": {
  "kernelspec": {
   "display_name": "Python 3",
   "language": "python",
   "name": "python3"
  },
  "language_info": {
   "codemirror_mode": {
    "name": "ipython",
    "version": 3
   },
   "file_extension": ".py",
   "mimetype": "text/x-python",
   "name": "python",
   "nbconvert_exporter": "python",
   "pygments_lexer": "ipython3",
   "version": "3.6.1"
  }
 },
 "nbformat": 4,
 "nbformat_minor": 2
}
