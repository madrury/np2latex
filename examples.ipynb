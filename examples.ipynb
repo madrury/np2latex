{
 "cells": [
  {
   "cell_type": "code",
   "execution_count": 1,
   "metadata": {},
   "outputs": [],
   "source": [
    "import numpy as np\n",
    "from np2latex import np2latex"
   ]
  },
  {
   "cell_type": "code",
   "execution_count": 2,
   "metadata": {
    "collapsed": true
   },
   "outputs": [],
   "source": [
    "X = np.array([[1.00, 2.00, 3.14], [-1.00, 0.00, -5.12], [9.99, -2.14, 0.00]])"
   ]
  },
  {
   "cell_type": "code",
   "execution_count": 3,
   "metadata": {},
   "outputs": [
    {
     "name": "stdout",
     "output_type": "stream",
     "text": [
      "\\left( \\begin{array}{ccc} 1.00 & 2.00 & 3.14 \\\\ -1.00 & 0.00 & -5.12 \\\\ 9.99 & -2.14 & 0.00 \\\\ \\end{array} \\right)\n"
     ]
    }
   ],
   "source": [
    "print(np2latex(X))"
   ]
  },
  {
   "cell_type": "markdown",
   "metadata": {},
   "source": [
    "$$\\left( \\begin{array}{ccc} 1.00 & 2.00 & 3.14 \\\\ -1.00 & 0.00 & -5.12 \\\\ 9.99 & -2.14 & 0.00 \\\\ \\end{array} \\right)$$"
   ]
  },
  {
   "cell_type": "code",
   "execution_count": 4,
   "metadata": {
    "collapsed": true
   },
   "outputs": [],
   "source": [
    "x = np.array([0.00, 1.23, -3.14])"
   ]
  },
  {
   "cell_type": "code",
   "execution_count": 5,
   "metadata": {},
   "outputs": [
    {
     "data": {
      "text/plain": [
       "(3, 1)"
      ]
     },
     "execution_count": 5,
     "metadata": {},
     "output_type": "execute_result"
    }
   ],
   "source": [
    "x.reshape(-1, 1).shape"
   ]
  },
  {
   "cell_type": "code",
   "execution_count": 6,
   "metadata": {},
   "outputs": [
    {
     "name": "stdout",
     "output_type": "stream",
     "text": [
      "\\left( \\begin{array}{c} 0.00 \\\\ 1.23 \\\\ -3.14 \\\\ \\end{array} \\right)\n"
     ]
    }
   ],
   "source": [
    "print(np2latex(x))"
   ]
  },
  {
   "cell_type": "markdown",
   "metadata": {},
   "source": [
    "$$\\left( \\begin{array}{c} 0.00 \\\\ 1.23 \\\\ -3.14 \\\\ \\end{array} \\right) $$"
   ]
  },
  {
   "cell_type": "code",
   "execution_count": 7,
   "metadata": {},
   "outputs": [
    {
     "name": "stdout",
     "output_type": "stream",
     "text": [
      "\\left( \\begin{array}{ccc} 0.00 & 1.23 & -3.14 \\\\ \\end{array} \\right)\n"
     ]
    }
   ],
   "source": [
    "print(np2latex(x, column=False))"
   ]
  },
  {
   "cell_type": "markdown",
   "metadata": {},
   "source": [
    "$$ \\left( \\begin{array}{ccc} 0.00 & 1.23 & -3.14 \\\\ \\end{array} \\right) $$"
   ]
  }
 ],
 "metadata": {
  "kernelspec": {
   "display_name": "Python 3",
   "language": "python",
   "name": "python3"
  },
  "language_info": {
   "codemirror_mode": {
    "name": "ipython",
    "version": 3
   },
   "file_extension": ".py",
   "mimetype": "text/x-python",
   "name": "python",
   "nbconvert_exporter": "python",
   "pygments_lexer": "ipython3",
   "version": "3.6.1"
  }
 },
 "nbformat": 4,
 "nbformat_minor": 2
}
